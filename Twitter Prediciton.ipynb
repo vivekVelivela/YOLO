{
 "cells": [
  {
   "cell_type": "markdown",
   "metadata": {},
   "source": [
    "# QUESTION 3: Twitter Message Prediction "
   ]
  },
  {
   "cell_type": "markdown",
   "metadata": {},
   "source": [
    "## Define the problem and Why it is hard?"
   ]
  },
  {
   "cell_type": "markdown",
   "metadata": {},
   "source": [
    "Twitter is a great platform of common people, celebrities and institutions to post messages of restricted length usually 140 characters, pictures, videos and GIF’s. Even though the message is restricted length it is a bit hard to solve the spread of a tweet because of different types of content as we know there are different kind of contents like text, image, video and graphics interchange format. Now-a-days using machine learning techniques like object detection, optical character recognition and text analysation we can find out what objects are posted in picture, what info is written in a picture and what kind of message posted. We can do this because there is certain type of words in message or object in a video or picture that can be considered as a reference for prediction whether that message can go viral or not. If there are. High number of such references then there is a chance that tweet can go viral. There is another challenge that makes our problem hard which is content posted with human intelligence, this is such a content that doesn’t have much of reference words but conveys the exact meaning or intention to all the members according to the situation. In current world this technique in making a tweet viral is trending, where reference key words will be less, but the intention keeps spreading and goes viral."
   ]
  },
  {
   "cell_type": "markdown",
   "metadata": {},
   "source": [
    "# Generalised approach"
   ]
  },
  {
   "cell_type": "markdown",
   "metadata": {},
   "source": [
    "In this approach we consider almost every factor, according [1] spread of twitter messages can be categorised into 3 topics \n",
    "Content Analysis, sentimental analysis and structural analysis\n"
   ]
  },
  {
   "cell_type": "markdown",
   "metadata": {},
   "source": [
    "### Structural analysis"
   ]
  },
  {
   "cell_type": "markdown",
   "metadata": {},
   "source": [
    " In this section some data like number of followers to know the influence of a particular post, as more number of followers cannot determine the spread we take number of retweet per each tweet into consideration and kind of people retweeting using link analysis techniques. number of retweets and number of followers of influential people might be a small factor for the spread of a tweet but not totally reliable. We need much more methods to know what kind of tweet is posted by analysing content."
   ]
  },
  {
   "cell_type": "markdown",
   "metadata": {},
   "source": [
    "### Content Analysis"
   ]
  },
  {
   "cell_type": "markdown",
   "metadata": {},
   "source": [
    "In this section We need to analyse the hashtags and the URL’s associated with the tweets which could potentially be a factor to determine the spread of a tweet. This method involves considering other data like reaction to a tweet, number of verbs, nouns and punctuation in a tweet such as exclamation which can convey a bit about the nature of the tweet."
   ]
  },
  {
   "cell_type": "markdown",
   "metadata": {},
   "source": [
    "### Sentimental Analysis"
   ]
  },
  {
   "cell_type": "markdown",
   "metadata": {},
   "source": [
    "This method extracts the sentiment out of the text an algorithm which can extract the emotion behind the informal text calculates the sentiment strength by exploring the grammar and spelling styles and builds a human-validated dictionary featuring positive and negative sentiments.\n",
    "\n",
    "\n",
    "These three classifications are important to predict the spread of a tweet, from these above methods many correlations, convergence in many factors and sentimental divergence by which a linear probabilistic model can be formed to predict whether a tweet goes viral or not."
   ]
  },
  {
   "cell_type": "markdown",
   "metadata": {},
   "source": [
    "# Specified Approach"
   ]
  },
  {
   "cell_type": "markdown",
   "metadata": {},
   "source": [
    "Analysing the data with an exclusive modelling of direct transmission of data on a social network in the form of retweets, particular reason for focussing on retweets is more chances of formation of a hashtag is not only by form of person to person but it forms due to mass media broadcasting from external sources outside of specific network. These mass broadcasting contribute to the majority of the spread of information in case of a special event discussion about a particular topic on a broadcasting media can increase the spread. Re-tweets are the part of an information cascade which is started by an identifiable user in twitter and the info is speeded mostly through their followers.\n",
    "\n",
    "It is believed that this method of analysing re-tweets in twitter contributes major part in spreading a particular information which can be true, hoax or can be a meme."
   ]
  },
  {
   "cell_type": "markdown",
   "metadata": {},
   "source": [
    "# VALIDATION"
   ]
  },
  {
   "cell_type": "markdown",
   "metadata": {},
   "source": [
    "Considering the above two approaches both of them are highly valid and produce good results in the current state of standard operation and functionality of social media. Considering validation between the two approaches the specified approach is more confined to one social media whereas the generalised approach can be applied to all social medias including twitter. Both of them have their own way of obtaining result and own benefits compared to any other approaches. I believe the generalised approach takes many factors like tweet count, sentiment laitance, number of followers, tweets, mentions and hashtags and emotional divergence into account to measure the spread of the information which can predict the spread whereas specified approach is concentrates in re-tweets which is more helpful in predicting the viral cascades which are intensively contagious on a specified post.\n",
    "\n",
    "As discussed earlier about the problem where the information spread through conveying intentions, it is a bit clear that Generalised approach can solve this particular problem by taking a main factor into account which is emotional latency. This approach has high chance to predict emotional posts which can be potentially be a meme or can be viral. "
   ]
  },
  {
   "cell_type": "markdown",
   "metadata": {},
   "source": [
    "# CONSEQUENCES"
   ]
  },
  {
   "cell_type": "markdown",
   "metadata": {},
   "source": [
    "There are not much serious ethical or social consequences of this study analysing data which is meant to be circulated doesn’t implicate any ethical issues unless until the specified user is aware of how the data will be used for various purposes, the proposed methods doesn’t include any private messages or confidential information so there will not be any legal consequences. As far as social consequence is concerned it depends on how the result of analysing data will be used in the worst case of using those results would implicate many legal and ethical issues as well. Considering above two approaches I believe consent is the important thing that the user must approve and aware of how the data that has been posted will be used. While analysing this data there is a chance to find some insights which are not meant to be posted publicly using that information will be ethical issue."
   ]
  },
  {
   "cell_type": "markdown",
   "metadata": {},
   "source": [
    "# REFERNCES"
   ]
  },
  {
   "cell_type": "markdown",
   "metadata": {},
   "source": [
    "[1] https://www.researchgate.net/publication/262166912_Analyzing_and_predicting_viral_tweets\n",
    "\n",
    "[2] https://journals.plos.org/plosone/article?id=10.1371/journal.pone.0214453#pone.0214453.ref005\n"
   ]
  }
 ],
 "metadata": {
  "kernelspec": {
   "display_name": "Python 3",
   "language": "python",
   "name": "python3"
  },
  "language_info": {
   "codemirror_mode": {
    "name": "ipython",
    "version": 3
   },
   "file_extension": ".py",
   "mimetype": "text/x-python",
   "name": "python",
   "nbconvert_exporter": "python",
   "pygments_lexer": "ipython3",
   "version": "3.7.3"
  }
 },
 "nbformat": 4,
 "nbformat_minor": 2
}
